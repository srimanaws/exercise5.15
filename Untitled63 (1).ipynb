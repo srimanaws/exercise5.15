{
 "cells": [
  {
   "cell_type": "code",
   "execution_count": null,
   "id": "8b827f3a-77fb-4622-b00d-d081ad10fc03",
   "metadata": {},
   "outputs": [],
   "source": [
    "#Exercise 5.15 by sriman"
   ]
  },
  {
   "cell_type": "code",
   "execution_count": 2,
   "id": "e560ca87-89fd-46e6-81a0-b92e398f6e26",
   "metadata": {},
   "outputs": [
    {
     "name": "stdout",
     "output_type": "stream",
     "text": [
      "sort by desc :\n",
      "(83, 'Electric sander', 7, 57.98)\n",
      "(77, 'Hammer', 76, 11.99)\n",
      "(39, 'Jig saw', 3, 79.5)\n",
      "(24, 'Power saw', 18, 99.99)\n",
      "(7, 'Sledge hammer', 11, 21.5)\n"
     ]
    }
   ],
   "source": [
    "# List of invoice tuples\n",
    "invoices = [\n",
    "    (83, \"Electric sander\", 7, 57.98),\n",
    "    (24, \"Power saw\", 18, 99.99),\n",
    "    (7, \"Sledge hammer\", 11, 21.50),\n",
    "    (77, \"Hammer\", 76, 11.99),\n",
    "    (39, \"Jig saw\", 3, 79.50)\n",
    "]\n",
    "\n",
    "# Import itemgetter from the operator module\n",
    "from operator import itemgetter\n",
    "\n",
    "#a sort by desc \n",
    "sorted_by_desc = sorted(invoices, key=itemgetter(1)) # itemgetter(1) sort tuples by 2nd element\n",
    "print(\"sort by desc :\")\n",
    "for invoice in sorted_by_desc: \n",
    "    print(invoice)"
   ]
  },
  {
   "cell_type": "code",
   "execution_count": 4,
   "id": "e6b53b4c-b5dc-4ff6-925f-fcf7f61413ee",
   "metadata": {},
   "outputs": [
    {
     "name": "stdout",
     "output_type": "stream",
     "text": [
      "\n",
      "sort it by price:\n",
      "(77, 'Hammer', 76, 11.99)\n",
      "(7, 'Sledge hammer', 11, 21.5)\n",
      "(83, 'Electric sander', 7, 57.98)\n",
      "(39, 'Jig saw', 3, 79.5)\n",
      "(24, 'Power saw', 18, 99.99)\n"
     ]
    }
   ],
   "source": [
    "# List of invoice tuples\n",
    "invoices = [\n",
    "    (83, \"Electric sander\", 7, 57.98),\n",
    "    (24, \"Power saw\", 18, 99.99),\n",
    "    (7, \"Sledge hammer\", 11, 21.50),\n",
    "    (77, \"Hammer\", 76, 11.99),\n",
    "    (39, \"Jig saw\", 3, 79.50)\n",
    "]\n",
    "\n",
    "# Import itemgetter from the operator module\n",
    "from operator import itemgetter\n",
    "\n",
    "#b  sort itw by price \n",
    "sorted_by_price = sorted(invoices, key=itemgetter(3)) # itemgetter(3) sorts by 4th element\n",
    "print(\"\\nsort it by price:\")\n",
    "for invoice in sorted_by_price:\n",
    "    print(invoice)"
   ]
  },
  {
   "cell_type": "code",
   "execution_count": 6,
   "id": "5cd72241-4253-4a5e-8197-f8d694e4505c",
   "metadata": {},
   "outputs": [
    {
     "name": "stdout",
     "output_type": "stream",
     "text": [
      "\n",
      "sort quantity by description:\n",
      "('Jig saw', 3)\n",
      "('Electric sander', 7)\n",
      "('Sledge hammer', 11)\n",
      "('Power saw', 18)\n",
      "('Hammer', 76)\n"
     ]
    }
   ],
   "source": [
    "# List of invoice tuples\n",
    "invoices = [\n",
    "    (83, \"Electric sander\", 7, 57.98),\n",
    "    (24, \"Power saw\", 18, 99.99),\n",
    "    (7, \"Sledge hammer\", 11, 21.50),\n",
    "    (77, \"Hammer\", 76, 11.99),\n",
    "    (39, \"Jig saw\", 3, 79.50)\n",
    "]\n",
    "\n",
    "# Import itemgetter from the operator module\n",
    "from operator import itemgetter\n",
    "\n",
    "#c  sort quantity by description\n",
    "sorted_by_qty = sorted([(desc, qty) for _, desc, qty, _ in invoices], key=itemgetter(1)) #itemgetter(1) sort by 2nd element \n",
    "print(\"\\nsort quantity by description:\")\n",
    "for part in sorted_by_qty:\n",
    "    print(part)"
   ]
  },
  {
   "cell_type": "code",
   "execution_count": 8,
   "id": "f6cac542-f547-40f0-934b-c24e5eb0a24e",
   "metadata": {},
   "outputs": [
    {
     "name": "stdout",
     "output_type": "stream",
     "text": [
      "\n",
      "sort total by description:\n",
      "('Sledge hammer', 236.5)\n",
      "('Jig saw', 238.5)\n",
      "('Electric sander', 405.85999999999996)\n",
      "('Hammer', 911.24)\n",
      "('Power saw', 1799.82)\n"
     ]
    }
   ],
   "source": [
    "# List of invoice tuples\n",
    "invoices = [\n",
    "    (83, \"Electric sander\", 7, 57.98),\n",
    "    (24, \"Power saw\", 18, 99.99),\n",
    "    (7, \"Sledge hammer\", 11, 21.50),\n",
    "    (77, \"Hammer\", 76, 11.99),\n",
    "    (39, \"Jig saw\", 3, 79.50)\n",
    "]\n",
    "\n",
    "# Import itemgetter from the operator module\n",
    "from operator import itemgetter\n",
    "\n",
    "#d sort total by description\n",
    "sorted_by_total_value = sorted([(desc, qty * price) for _, desc, qty, price in invoices], key=itemgetter(1)) # sort tuples by 2nd element \n",
    "print(\"\\nsort total by description:\")\n",
    "for part in sorted_by_total_value:\n",
    "    print(part)"
   ]
  },
  {
   "cell_type": "code",
   "execution_count": 10,
   "id": "44116915-dcc1-45d8-bfdb-7acdeea6165b",
   "metadata": {},
   "outputs": [
    {
     "name": "stdout",
     "output_type": "stream",
     "text": [
      "\n",
      "filter values between $200-$500.:\n",
      "('Sledge hammer', 236.5)\n",
      "('Jig saw', 238.5)\n",
      "('Electric sander', 405.85999999999996)\n"
     ]
    }
   ],
   "source": [
    "# List of invoice tuples\n",
    "invoices = [\n",
    "    (83, \"Electric sander\", 7, 57.98),\n",
    "    (24, \"Power saw\", 18, 99.99),\n",
    "    (7, \"Sledge hammer\", 11, 21.50),\n",
    "    (77, \"Hammer\", 76, 11.99),\n",
    "    (39, \"Jig saw\", 3, 79.50)\n",
    "]\n",
    "\n",
    "# Import itemgetter from the operator module\n",
    "from operator import itemgetter\n",
    "\n",
    "#e filter values between $200-$500.\n",
    "filtered_invoice_values = [(desc, total) for desc, total in sorted_by_total_value if 200 <= total <= 500]\n",
    "print(\"\\nfilter values between $200-$500.:\") ##  filter the invoice b/w 200 and 500 only \n",
    "\n",
    "for part in filtered_invoice_values:\n",
    "    print(part)"
   ]
  },
  {
   "cell_type": "code",
   "execution_count": 12,
   "id": "087db6ca-a9de-421e-b32b-dd7ce0a115c5",
   "metadata": {},
   "outputs": [
    {
     "name": "stdout",
     "output_type": "stream",
     "text": [
      "\n",
      "total of invoices: 3591.92\n"
     ]
    }
   ],
   "source": [
    "# List of invoice tuples\n",
    "invoices = [\n",
    "    (83, \"Electric sander\", 7, 57.98),\n",
    "    (24, \"Power saw\", 18, 99.99),\n",
    "    (7, \"Sledge hammer\", 11, 21.50),\n",
    "    (77, \"Hammer\", 76, 11.99),\n",
    "    (39, \"Jig saw\", 3, 79.50)\n",
    "]\n",
    "\n",
    "# Import itemgetter from the operator module\n",
    "from operator import itemgetter\n",
    "\n",
    "#f  total of invoices\n",
    "total_value = sum(qty * price for _, _, qty, price in invoices) # formula - sum of (quantity * price)\n",
    "print(\"\\ntotal of invoices:\", total_value)"
   ]
  },
  {
   "cell_type": "code",
   "execution_count": null,
   "id": "d97a173f-08e3-4829-b657-d445171e5486",
   "metadata": {},
   "outputs": [],
   "source": []
  }
 ],
 "metadata": {
  "kernelspec": {
   "display_name": "Python 3 (ipykernel)",
   "language": "python",
   "name": "python3"
  },
  "language_info": {
   "codemirror_mode": {
    "name": "ipython",
    "version": 3
   },
   "file_extension": ".py",
   "mimetype": "text/x-python",
   "name": "python",
   "nbconvert_exporter": "python",
   "pygments_lexer": "ipython3",
   "version": "3.12.4"
  }
 },
 "nbformat": 4,
 "nbformat_minor": 5
}
